{
 "cells": [
  {
   "cell_type": "code",
   "execution_count": null,
   "id": "94eab4ed-1f9c-44b6-8b75-f72744e97e38",
   "metadata": {},
   "outputs": [],
   "source": [
    "import numpy as np\n",
    "from numpy.linalg import norm"
   ]
  },
  {
   "cell_type": "markdown",
   "id": "49b87243-ae15-488b-89e4-de83f224cdbe",
   "metadata": {},
   "source": [
    "# Vectors, dot products, norms, and cosine similarity"
   ]
  },
  {
   "cell_type": "markdown",
   "id": "1c4322af-c763-4aa9-b988-686298af8f42",
   "metadata": {},
   "source": [
    "For our purposes, vectors are ordered lists of numbers or *elements*.\n",
    "\n",
    "In numpy, an \"array\" is one way to store what we would consider to be a vector."
   ]
  },
  {
   "cell_type": "code",
   "execution_count": null,
   "id": "026de3c4-393f-486a-aa6d-2057dae6e9ea",
   "metadata": {},
   "outputs": [],
   "source": [
    "u = np.array([0, 1, 0])\n",
    "v = np.array([1, 2, 2, 4, 5])\n",
    "w = np.array([5, 4, 3, 2, 1])"
   ]
  },
  {
   "cell_type": "markdown",
   "id": "3a2516c9-8cb1-4a0a-9752-ad82f02c5b00",
   "metadata": {},
   "source": [
    "We are always allowed to multiply a vector by a *scalar*, which is what we call a single number."
   ]
  },
  {
   "cell_type": "code",
   "execution_count": null,
   "id": "2d22b4cb-4bbe-4ab1-809e-6a086caffcc2",
   "metadata": {},
   "outputs": [],
   "source": [
    "3*u"
   ]
  },
  {
   "cell_type": "markdown",
   "id": "e8e3647b-c97b-4a05-9046-0a3812206db9",
   "metadata": {},
   "source": [
    "If they have the same length, sometimes called \"dimension,\" then we can add and subtract vectors."
   ]
  },
  {
   "cell_type": "code",
   "execution_count": null,
   "id": "027dc268-0481-4cd2-a2d0-aedc76f9a923",
   "metadata": {},
   "outputs": [],
   "source": [
    "v + w"
   ]
  },
  {
   "cell_type": "code",
   "execution_count": null,
   "id": "896ec3f4-a603-49ff-87c6-7d62e1858b5a",
   "metadata": {},
   "outputs": [],
   "source": [
    "v - w"
   ]
  },
  {
   "cell_type": "markdown",
   "id": "7c233256-cd1a-458f-97ed-1e8f080cdb4d",
   "metadata": {},
   "source": [
    "If they have different lengths, addition and subtraction are not defined."
   ]
  },
  {
   "cell_type": "code",
   "execution_count": null,
   "id": "83770df8-5659-4686-bf0a-9c85935dcd42",
   "metadata": {},
   "outputs": [],
   "source": [
    "u + v"
   ]
  },
  {
   "cell_type": "markdown",
   "id": "0ab13576-eac5-41db-98c0-d8311e6b10f8",
   "metadata": {},
   "source": [
    "If two vectors have the same length, we can compute the *dot product* by multiplying each corresponding element and summing up the results."
   ]
  },
  {
   "cell_type": "code",
   "execution_count": null,
   "id": "a20d5acb-909e-443f-b5e0-123812e50360",
   "metadata": {},
   "outputs": [],
   "source": [
    "np.dot(v,w)"
   ]
  },
  {
   "cell_type": "markdown",
   "id": "df14761b-04ba-4271-be31-34f755b22227",
   "metadata": {},
   "source": [
    "The *norm* of a vector is the square root of the sum of the squares of all the elements."
   ]
  },
  {
   "cell_type": "code",
   "execution_count": null,
   "id": "18679553-e677-4726-8045-8c5f673b4c07",
   "metadata": {},
   "outputs": [],
   "source": [
    "norm(v)"
   ]
  },
  {
   "cell_type": "code",
   "execution_count": null,
   "id": "e9b4a311-2ce6-4852-88dc-c901df8ddd87",
   "metadata": {},
   "outputs": [],
   "source": [
    "norm(w)"
   ]
  },
  {
   "cell_type": "markdown",
   "id": "306c06b6-c996-449c-aed2-99864759842d",
   "metadata": {},
   "source": [
    "Think for a moment - why are they the same?"
   ]
  },
  {
   "cell_type": "markdown",
   "id": "22e5a141-f26d-4b5d-833b-4fb41a42045e",
   "metadata": {},
   "source": [
    "The *cosine similarity* of two vectors involves both their dot products and their norms."
   ]
  },
  {
   "cell_type": "code",
   "execution_count": null,
   "id": "7c63dff8-f474-4dbc-a509-d77175d773e1",
   "metadata": {},
   "outputs": [],
   "source": [
    "np.dot(v,w)/(norm(v)*norm(w))"
   ]
  },
  {
   "cell_type": "markdown",
   "id": "076e7d47-3c19-419d-80c9-9aef7f2ceabd",
   "metadata": {},
   "source": [
    "# Matrices, matrix operations, transpose, and inverse"
   ]
  },
  {
   "cell_type": "markdown",
   "id": "071a9c12-c127-4306-b2d4-2ae1ec1db5a4",
   "metadata": {},
   "source": [
    "A matrix is a two-dimensional array of numbers."
   ]
  },
  {
   "cell_type": "code",
   "execution_count": null,
   "id": "38f67983-2001-4285-b58c-a4650fa7e709",
   "metadata": {},
   "outputs": [],
   "source": [
    "A = np.matrix(\"1 2 3; 4 5 6; 7 8 9; 10 11 12\")\n",
    "A\n"
   ]
  },
  {
   "cell_type": "code",
   "execution_count": null,
   "id": "7304dd2d-7f21-44d3-8b85-1c66a891ae94",
   "metadata": {},
   "outputs": [],
   "source": [
    "B = np.matrix(\"1 0 0; 0 1 0; 0 0 1; 1 1 1\")\n",
    "B"
   ]
  },
  {
   "cell_type": "markdown",
   "id": "64c3695e-c8e3-47a4-a868-6f05da9c5f4c",
   "metadata": {},
   "source": [
    "If a matrix has one column, it is also called a *column vector*"
   ]
  },
  {
   "cell_type": "code",
   "execution_count": null,
   "id": "d06f43f0-fe55-4ace-a04f-905f459b4abb",
   "metadata": {},
   "outputs": [],
   "source": [
    "colvec = np.matrix(\"1; 4; 7; 10\")\n",
    "colvec"
   ]
  },
  {
   "cell_type": "markdown",
   "id": "695a5713-86e3-4848-abc6-709e02881af0",
   "metadata": {},
   "source": [
    "If a matrix has one row, it is also called a *row vector*"
   ]
  },
  {
   "cell_type": "code",
   "execution_count": null,
   "id": "64f289c1-9aff-4a41-bc92-b6339af7f84d",
   "metadata": {},
   "outputs": [],
   "source": [
    "rowvec = np.matrix(\"1 2 3\")\n",
    "rowvec"
   ]
  },
  {
   "cell_type": "markdown",
   "id": "b351447d-5efc-43d9-a724-fa80906f21fa",
   "metadata": {},
   "source": [
    "If two matrices have the same number of rows and columns (same shape) then addition and subtraction are defined element-wise."
   ]
  },
  {
   "cell_type": "code",
   "execution_count": null,
   "id": "755a4e22-6942-4f9b-8830-95479963f061",
   "metadata": {},
   "outputs": [],
   "source": [
    "A.shape"
   ]
  },
  {
   "cell_type": "code",
   "execution_count": null,
   "id": "008afedc-defd-4902-8fd0-a3232846c6f8",
   "metadata": {},
   "outputs": [],
   "source": [
    "B.shape"
   ]
  },
  {
   "cell_type": "code",
   "execution_count": null,
   "id": "86feb4e3-3ae3-48ed-8bd2-ef00301b6e70",
   "metadata": {},
   "outputs": [],
   "source": [
    "A + B"
   ]
  },
  {
   "cell_type": "markdown",
   "id": "baba4a3b-6494-4f2c-8653-c553f76079bc",
   "metadata": {},
   "source": [
    "The *transpose* of a matrix is another matrix where the rows become columns and the columns become rows. You can imagine this as reflecting the matrix along its diagonal, which runs from top left to bottom right."
   ]
  },
  {
   "cell_type": "code",
   "execution_count": null,
   "id": "e5a30a62-a2fe-461d-aee7-89c14166112c",
   "metadata": {},
   "outputs": [],
   "source": [
    "A"
   ]
  },
  {
   "cell_type": "code",
   "execution_count": null,
   "id": "289b6652-8d33-4da4-91b3-6e73e0d35263",
   "metadata": {},
   "outputs": [],
   "source": [
    "A.T"
   ]
  },
  {
   "cell_type": "markdown",
   "id": "96ecef5b-cf04-40a6-bbfc-85169cef857a",
   "metadata": {},
   "source": [
    "## Matrix multiplication"
   ]
  },
  {
   "cell_type": "markdown",
   "id": "0eb3e4f4-7519-4842-b4e7-c0571c102179",
   "metadata": {},
   "source": [
    "Matrix multiplication works differently from multiplying scalars (single numbers.)\n",
    "\n",
    "To multiply two matrices C and D, the number of *columns* of C must be the same as the number of *rows* of D.\n",
    "The resulting matrix has the same number of *rows* of C and the same number of *columns* of D."
   ]
  },
  {
   "cell_type": "code",
   "execution_count": null,
   "id": "4d050c9c-6a49-435c-8b7b-29fc56ae2913",
   "metadata": {},
   "outputs": [],
   "source": [
    "C = np.matrix(\"1 2; 3 4; 5 6\")\n",
    "D = np.matrix(\"1 2 ; 4 5\")"
   ]
  },
  {
   "cell_type": "code",
   "execution_count": null,
   "id": "0ac48bc0-1e75-43f5-a573-95a80c70c8a6",
   "metadata": {},
   "outputs": [],
   "source": [
    "C"
   ]
  },
  {
   "cell_type": "code",
   "execution_count": null,
   "id": "e7323704-4344-4600-93bc-9c05fdbe4843",
   "metadata": {},
   "outputs": [],
   "source": [
    "D"
   ]
  },
  {
   "cell_type": "code",
   "execution_count": null,
   "id": "3b995b00-80b8-48b6-90ce-1b92af60b640",
   "metadata": {},
   "outputs": [],
   "source": [
    "C*D"
   ]
  },
  {
   "cell_type": "markdown",
   "id": "a39abf2f-8b95-4c73-ac08-de2d0a450f57",
   "metadata": {},
   "source": [
    "Element (i,j) of the result is the dot product of row i of the first matrix with column j of the second matrix."
   ]
  },
  {
   "cell_type": "code",
   "execution_count": null,
   "id": "bca07a44-9888-4560-9a74-e106fbb80252",
   "metadata": {},
   "outputs": [],
   "source": [
    "np.dot(C[0,:],D[:,1]) # Numpy indexes from 0"
   ]
  },
  {
   "cell_type": "code",
   "execution_count": null,
   "id": "3b3413cb-a74b-40a1-9e9f-fc63b72f09e4",
   "metadata": {},
   "outputs": [],
   "source": [
    "(C*D)[0,1]"
   ]
  },
  {
   "cell_type": "markdown",
   "id": "576845fe-a7ed-4b2b-9837-428d2068b6c3",
   "metadata": {},
   "source": [
    "If matrices are square, they can be multiplied in either order, but the result will not be the same, in general. (Matrix multiplication is not *commutative.*)"
   ]
  },
  {
   "cell_type": "code",
   "execution_count": null,
   "id": "d94b2965-2630-45b8-aa9a-31bf1d79d2d4",
   "metadata": {},
   "outputs": [],
   "source": [
    "E = np.matrix(\"1 2; 3 4\")\n",
    "F = np.matrix(\"5 6; 7 8\")"
   ]
  },
  {
   "cell_type": "code",
   "execution_count": null,
   "id": "3c975d00-a58b-4fc5-adfd-687ffd78795d",
   "metadata": {},
   "outputs": [],
   "source": [
    "E"
   ]
  },
  {
   "cell_type": "code",
   "execution_count": null,
   "id": "32e1a47c-535d-4766-bd60-126d50a570b0",
   "metadata": {},
   "outputs": [],
   "source": [
    "F"
   ]
  },
  {
   "cell_type": "code",
   "execution_count": null,
   "id": "bc03c094-5fb0-4e3e-bfa1-0c47ac92f883",
   "metadata": {},
   "outputs": [],
   "source": [
    "E*F"
   ]
  },
  {
   "cell_type": "code",
   "execution_count": null,
   "id": "819d2303-8927-4507-b791-d39a98f3a134",
   "metadata": {},
   "outputs": [],
   "source": [
    "F*E"
   ]
  },
  {
   "cell_type": "markdown",
   "id": "3f271b0a-09d6-4dfc-861f-d0910945cc49",
   "metadata": {},
   "source": [
    "An *identity matrix* is a square matrix, called I, with 1s on the diagonal and 0s elsewhere."
   ]
  },
  {
   "cell_type": "code",
   "execution_count": null,
   "id": "8aa2d49f-e2f5-4d35-86a7-405ac36cbb25",
   "metadata": {},
   "outputs": [],
   "source": [
    "I = np.matrix(\"1 0 ; 0 1\")\n",
    "I"
   ]
  },
  {
   "cell_type": "markdown",
   "id": "8086872b-884d-481f-a84a-22e05939493e",
   "metadata": {},
   "source": [
    "Multiplying a matrix by the identity gives the original matrix."
   ]
  },
  {
   "cell_type": "code",
   "execution_count": null,
   "id": "518cb72b-e6f7-4e29-a343-835b2e1e8cb0",
   "metadata": {},
   "outputs": [],
   "source": [
    "I*F"
   ]
  },
  {
   "cell_type": "code",
   "execution_count": null,
   "id": "0ce7093b-17f1-44e0-a9ad-f99e5bcc6bed",
   "metadata": {},
   "outputs": [],
   "source": [
    "E*I"
   ]
  },
  {
   "cell_type": "markdown",
   "id": "b5730a51-b349-4a23-a2f7-c9430a0b6078",
   "metadata": {},
   "source": [
    "If mulitplying two matrices produces the identity matrix, then the two matrices are *inverses* of each other."
   ]
  },
  {
   "cell_type": "code",
   "execution_count": null,
   "id": "c07e8364-f0ea-4f50-9cfd-cbb4e6c8d9d3",
   "metadata": {},
   "outputs": [],
   "source": [
    "Einv = np.matrix(\"-2 1; 1.5, -0.5\")\n",
    "Einv"
   ]
  },
  {
   "cell_type": "code",
   "execution_count": null,
   "id": "2312446a-809c-45d9-9cd5-09fbf8a4239b",
   "metadata": {},
   "outputs": [],
   "source": [
    "E*Einv"
   ]
  },
  {
   "cell_type": "code",
   "execution_count": null,
   "id": "e84a99c9-5415-49c3-abc3-da9fed494eb4",
   "metadata": {},
   "outputs": [],
   "source": [
    "Einv*E"
   ]
  },
  {
   "cell_type": "markdown",
   "id": "ccbde9c8-4287-4016-be26-fef106ccc705",
   "metadata": {},
   "source": [
    "Not all matrices have an inverse, and finding the inverse of a matrix is not obvious or easy to do by hand. If we need it, we use an algorithm/package."
   ]
  },
  {
   "cell_type": "code",
   "execution_count": null,
   "id": "30efebb6-1e67-4c00-8d02-4089700d26ea",
   "metadata": {},
   "outputs": [],
   "source": [
    "np.linalg.inv(E)"
   ]
  },
  {
   "cell_type": "markdown",
   "id": "d8a29c78-0f80-482f-aa6c-2c8fe35472be",
   "metadata": {},
   "source": [
    "Consider the following 3-by-4 matrix:"
   ]
  },
  {
   "cell_type": "code",
   "execution_count": null,
   "id": "9a711c77-6132-4b8f-921b-af5bdcaf29f8",
   "metadata": {},
   "outputs": [],
   "source": [
    "M = np.matrix(\"4 5 6 7; 8 10 12 14; 12 15 18 21\")\n",
    "M"
   ]
  },
  {
   "cell_type": "markdown",
   "id": "821dcd61-35d8-4d30-8930-091ec7eb0903",
   "metadata": {},
   "source": [
    "We can actually write it as the product of two much smaller matrices"
   ]
  },
  {
   "cell_type": "code",
   "execution_count": null,
   "id": "05494722-8616-445a-bc69-bfe4e12819ac",
   "metadata": {},
   "outputs": [],
   "source": [
    "G = np.matrix(\"1; 2; 3\")\n",
    "G"
   ]
  },
  {
   "cell_type": "code",
   "execution_count": null,
   "id": "4334340b-6a85-4f14-8cc6-c62284f05ecd",
   "metadata": {},
   "outputs": [],
   "source": [
    "H = np.matrix(\"4 5 6 7\")\n",
    "H"
   ]
  },
  {
   "cell_type": "code",
   "execution_count": null,
   "id": "849393bf-177e-4ace-857f-6f2f61fd1c7e",
   "metadata": {},
   "outputs": [],
   "source": [
    "G*H"
   ]
  },
  {
   "cell_type": "markdown",
   "id": "d13facb2-da11-4478-896f-71e51366e717",
   "metadata": {},
   "source": [
    "In this case, the 12 entries in the matrix J can be compressed into the 3 + 4 = 7 entries of matrices G and H."
   ]
  },
  {
   "cell_type": "markdown",
   "id": "e6a7494b-4f26-4100-ad2f-ad4b51bf152b",
   "metadata": {},
   "source": [
    "Also, column j of matrix M is given by the column vector G, weighted the jth element of H. "
   ]
  },
  {
   "cell_type": "code",
   "execution_count": null,
   "id": "680e72b2-4487-47e4-b081-e25ba8020143",
   "metadata": {},
   "outputs": [],
   "source": [
    "G * H[:,2]"
   ]
  },
  {
   "cell_type": "markdown",
   "id": "0604081f-88f0-4133-9a8e-013417928c84",
   "metadata": {},
   "source": [
    "And, row i of matrix M is given by the row vector H, weighted by the ith element of G."
   ]
  },
  {
   "cell_type": "code",
   "execution_count": null,
   "id": "1d742c10-c3dc-401c-b850-5de3bb2eddd3",
   "metadata": {},
   "outputs": [],
   "source": [
    "G[1,:] * H"
   ]
  },
  {
   "cell_type": "markdown",
   "id": "5aa856c7-129c-4495-844d-e37a022eb0f4",
   "metadata": {},
   "source": [
    "In general, if M = G*H for matrices M, G, and H, then:\n",
    "\n",
    "    - Each column of M is a weighted sum of columns of G\n",
    "    - Each row of M is a weighted sum of rows of H\n",
    "    \n",
    "By \"weighted sum\" we mean that for example, a column of M can be written as a sum of the column vectors of G, where each one is \"weighted\" (multiplied) by a scalar that comes from H. See the examples below."
   ]
  },
  {
   "cell_type": "code",
   "execution_count": null,
   "id": "1399bc11-8663-48fa-97ba-0c8d346b53c3",
   "metadata": {},
   "outputs": [],
   "source": [
    "Q = np.matrix(\"1 2; 3 4; 5 6\")\n",
    "Q"
   ]
  },
  {
   "cell_type": "code",
   "execution_count": null,
   "id": "548c38b0-b175-4627-949d-6ba8e02a75ad",
   "metadata": {},
   "outputs": [],
   "source": [
    "R = np.matrix(\"1 2 3 4; 5 6 7 8\")\n",
    "R"
   ]
  },
  {
   "cell_type": "code",
   "execution_count": null,
   "id": "6930d64f-d3df-4400-b16f-6e43b1bd5181",
   "metadata": {},
   "outputs": [],
   "source": [
    "S = Q*R\n",
    "S"
   ]
  },
  {
   "cell_type": "code",
   "execution_count": null,
   "id": "a26a2510-08a0-4378-80f4-6ab9039a83dc",
   "metadata": {},
   "outputs": [],
   "source": [
    "R[0,:]*3 + R[1,:]*4 # Compute middle row of S as weighted sum of rows of R (the numbers 3 and 4 come from Q)"
   ]
  },
  {
   "cell_type": "code",
   "execution_count": null,
   "id": "d26f3351-1aa8-4efc-9771-3eedf5a2fbf2",
   "metadata": {},
   "outputs": [],
   "source": [
    "Q[:,0]*4 + Q[:,1]*8 # Compute last column of S as weighted sum of columns of Q (the numbers 4 and 8 come from R)"
   ]
  },
  {
   "cell_type": "markdown",
   "id": "0cfc5b54-32d8-489e-9b32-8bff45fa9ad2",
   "metadata": {},
   "source": [
    "If we are given a matrix, re-writing it as the product of two matrices is called *factorization*. If the two matrices in the product are much smaller, then we are basically compressing the big matrix. This can both save space *and* reveal structure, as we will see next week."
   ]
  },
  {
   "cell_type": "code",
   "execution_count": null,
   "id": "dc199583-8ca3-46a2-8cd4-7d1ce16b8a4b",
   "metadata": {},
   "outputs": [],
   "source": []
  },
  {
   "cell_type": "code",
   "execution_count": null,
   "id": "5c25efdb-acd9-4a9b-b8c9-208c33570c7d",
   "metadata": {},
   "outputs": [],
   "source": []
  }
 ],
 "metadata": {
  "kernelspec": {
   "display_name": "Python 3 (ipykernel)",
   "language": "python",
   "name": "python3"
  },
  "language_info": {
   "codemirror_mode": {
    "name": "ipython",
    "version": 3
   },
   "file_extension": ".py",
   "mimetype": "text/x-python",
   "name": "python",
   "nbconvert_exporter": "python",
   "pygments_lexer": "ipython3",
   "version": "3.9.6"
  }
 },
 "nbformat": 4,
 "nbformat_minor": 5
}
